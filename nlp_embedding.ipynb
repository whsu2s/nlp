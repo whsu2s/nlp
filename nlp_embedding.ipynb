{
  "nbformat": 4,
  "nbformat_minor": 0,
  "metadata": {
    "colab": {
      "name": "nlp-embedding.ipynb",
      "provenance": [],
      "authorship_tag": "ABX9TyPUvPLgPeZ9ytQfmMFp/7jB",
      "include_colab_link": true
    },
    "kernelspec": {
      "name": "python3",
      "display_name": "Python 3"
    }
  },
  "cells": [
    {
      "cell_type": "markdown",
      "metadata": {
        "id": "view-in-github",
        "colab_type": "text"
      },
      "source": [
        "<a href=\"https://colab.research.google.com/github/whsu2s/nlp/blob/master/nlp_embedding.ipynb\" target=\"_parent\"><img src=\"https://colab.research.google.com/assets/colab-badge.svg\" alt=\"Open In Colab\"/></a>"
      ]
    },
    {
      "cell_type": "markdown",
      "metadata": {
        "id": "HIkYDDKCOWgW",
        "colab_type": "text"
      },
      "source": [
        ""
      ]
    },
    {
      "cell_type": "markdown",
      "metadata": {
        "id": "Y3xCBxU5OaD6",
        "colab_type": "text"
      },
      "source": [
        "## Text Representation\n",
        "Text representation is a way to represent text by numerical values. "
      ]
    },
    {
      "cell_type": "code",
      "metadata": {
        "id": "3qg9uSb2OUgj",
        "colab_type": "code",
        "colab": {
          "base_uri": "https://localhost:8080/",
          "height": 34
        },
        "outputId": "8924bc26-770a-4ef7-a804-05a9e0218bb9"
      },
      "source": [
        "# Corpus\n",
        "corpus = ['This is the first document.',\n",
        "          'This is the second document.',\n",
        "          'And the third one.',\n",
        "          'Is this the first document?']\n",
        "print(\"Corpus: \", corpus)"
      ],
      "execution_count": null,
      "outputs": [
        {
          "output_type": "stream",
          "text": [
            "Corpus:  ['This is the first document.', 'This is the second document.', 'And the third one.', 'Is this the first document?']\n"
          ],
          "name": "stdout"
        }
      ]
    },
    {
      "cell_type": "markdown",
      "metadata": {
        "id": "zxsSlGVxPLzP",
        "colab_type": "text"
      },
      "source": [
        "### Bag of Words (BoW)\n",
        "BoW is simple to implement, but the order of words is lost and cannot handle out of vocabulary (OOV) problem."
      ]
    },
    {
      "cell_type": "code",
      "metadata": {
        "id": "aq8rqdkOPMel",
        "colab_type": "code",
        "colab": {}
      },
      "source": [
        "from sklearn.feature_extraction.text import CountVectorizer"
      ],
      "execution_count": null,
      "outputs": []
    },
    {
      "cell_type": "code",
      "metadata": {
        "id": "f3NFaiiGQAm8",
        "colab_type": "code",
        "colab": {
          "base_uri": "https://localhost:8080/",
          "height": 68
        },
        "outputId": "38bb7703-43c2-415a-c873-c678f86bc5e3"
      },
      "source": [
        "# Bulid Bag of Words representation of the corpus\n",
        "vectorizer = CountVectorizer()\n",
        "bow = vectorizer.fit_transform(corpus)\n",
        "print(\"Vocabulary: \", vectorizer.vocabulary_)\n",
        "print(\"Bag of words for \\\"{}\\\": {}\".format(corpus[0], bow[0].toarray()))\n",
        "print(\"Bag of words for \\\"{}\\\": {}\".format(corpus[1], bow[1].toarray()))"
      ],
      "execution_count": null,
      "outputs": [
        {
          "output_type": "stream",
          "text": [
            "Vocabulary:  {'this': 8, 'is': 3, 'the': 6, 'first': 2, 'document': 1, 'second': 5, 'and': 0, 'third': 7, 'one': 4}\n",
            "Bag of words for \"This is the first document.\": [[0 1 1 1 0 0 1 0 1]]\n",
            "Bag of words for \"This is the second document.\": [[0 1 0 1 0 1 1 0 1]]\n"
          ],
          "name": "stdout"
        }
      ]
    },
    {
      "cell_type": "code",
      "metadata": {
        "id": "gjmAin4tSnIK",
        "colab_type": "code",
        "colab": {
          "base_uri": "https://localhost:8080/",
          "height": 51
        },
        "outputId": "9782a78f-5043-4655-ead9-0d7220024229"
      },
      "source": [
        "# Get BoW of new text\n",
        "new_doc1 = \"Is this the first or second document?\"\n",
        "new_doc2 = \"This is a test.\"\n",
        "print(\"BoW of \\\"{}\\\": {}\".format(new_doc1, vectorizer.transform([new_doc1]).toarray()))\n",
        "print(\"BoW of \\\"{}\\\": {}\".format(new_doc2, vectorizer.transform([new_doc2]).toarray()))"
      ],
      "execution_count": null,
      "outputs": [
        {
          "output_type": "stream",
          "text": [
            "BoW of \"Is this the first or second document?\": [[0 1 1 1 0 1 1 0 1]]\n",
            "BoW of \"This is a test.\": [[0 0 0 1 0 0 0 0 1]]\n"
          ],
          "name": "stdout"
        }
      ]
    },
    {
      "cell_type": "code",
      "metadata": {
        "id": "6ln7_BK1VK0P",
        "colab_type": "code",
        "colab": {}
      },
      "source": [
        ""
      ],
      "execution_count": null,
      "outputs": []
    },
    {
      "cell_type": "markdown",
      "metadata": {
        "id": "hXeogjPzWmVb",
        "colab_type": "text"
      },
      "source": [
        "### TF-IDF (Term frequency-inverse document frequency)"
      ]
    },
    {
      "cell_type": "code",
      "metadata": {
        "id": "caNAhQQbW0HZ",
        "colab_type": "code",
        "colab": {}
      },
      "source": [
        "from sklearn.feature_extraction.text import TfidfVectorizer"
      ],
      "execution_count": null,
      "outputs": []
    },
    {
      "cell_type": "code",
      "metadata": {
        "id": "8gPdSNf-XCbn",
        "colab_type": "code",
        "colab": {
          "base_uri": "https://localhost:8080/",
          "height": 187
        },
        "outputId": "d07df2f3-e84d-4515-8618-735483a8e9bb"
      },
      "source": [
        "t_vectorizer = TfidfVectorizer()\n",
        "tf_idf = t_vectorizer.fit_transform(corpus)\n",
        "print(\"Vocabulary: \", t_vectorizer.get_feature_names())\n",
        "print(\"TF-IDF for corpus: \\n\", tf_idf.toarray())"
      ],
      "execution_count": null,
      "outputs": [
        {
          "output_type": "stream",
          "text": [
            "Vocabulary:  ['and', 'document', 'first', 'is', 'one', 'second', 'the', 'third', 'this']\n",
            "TF-IDF for corpus: \n",
            " [[0.         0.43877674 0.54197657 0.43877674 0.         0.\n",
            "  0.35872874 0.         0.43877674]\n",
            " [0.         0.40412895 0.         0.40412895 0.         0.63314609\n",
            "  0.33040189 0.         0.40412895]\n",
            " [0.55280532 0.         0.         0.         0.55280532 0.\n",
            "  0.28847675 0.55280532 0.        ]\n",
            " [0.         0.43877674 0.54197657 0.43877674 0.         0.\n",
            "  0.35872874 0.         0.43877674]]\n"
          ],
          "name": "stdout"
        }
      ]
    },
    {
      "cell_type": "code",
      "metadata": {
        "id": "0lEP7aogXy8d",
        "colab_type": "code",
        "colab": {}
      },
      "source": [
        ""
      ],
      "execution_count": null,
      "outputs": []
    }
  ]
}