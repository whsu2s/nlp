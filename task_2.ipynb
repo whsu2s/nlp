{
  "nbformat": 4,
  "nbformat_minor": 0,
  "metadata": {
    "colab": {
      "name": "task_2.ipynb",
      "provenance": [],
      "authorship_tag": "ABX9TyM7sH1X3vdy/xLOUWwtZM6s",
      "include_colab_link": true
    },
    "kernelspec": {
      "name": "python3",
      "display_name": "Python 3"
    }
  },
  "cells": [
    {
      "cell_type": "markdown",
      "metadata": {
        "id": "view-in-github",
        "colab_type": "text"
      },
      "source": [
        "<a href=\"https://colab.research.google.com/github/whsu2s/nlp/blob/master/task_2.ipynb\" target=\"_parent\"><img src=\"https://colab.research.google.com/assets/colab-badge.svg\" alt=\"Open In Colab\"/></a>"
      ]
    },
    {
      "cell_type": "markdown",
      "metadata": {
        "id": "7I5VY7MKMYYn",
        "colab_type": "text"
      },
      "source": [
        "## Please write a program or pseudocode which finds the first digit of a string."
      ]
    },
    {
      "cell_type": "code",
      "metadata": {
        "id": "NP1HtRZPMUhY",
        "colab_type": "code",
        "colab": {}
      },
      "source": [
        "import re"
      ],
      "execution_count": 1,
      "outputs": []
    },
    {
      "cell_type": "code",
      "metadata": {
        "id": "Iio48OlKMlwJ",
        "colab_type": "code",
        "colab": {}
      },
      "source": [
        "def first_digit(s):\n",
        "  \"\"\" Find the first digit in a nonempty string by searching for digit pattern '\\d'. \n",
        "      The first digit is returned if there is one.\n",
        "  \"\"\" \n",
        "  if len(s) < 1:\n",
        "    return \"Empty string!\"\n",
        "  else:\n",
        "    match = re.search(r'\\d', s)\n",
        "    return match.group() if match is not None else None\n",
        "    "
      ],
      "execution_count": 36,
      "outputs": []
    },
    {
      "cell_type": "code",
      "metadata": {
        "id": "j95R8JIuMo9u",
        "colab_type": "code",
        "colab": {
          "base_uri": "https://localhost:8080/",
          "height": 70
        },
        "outputId": "7fed1a60-d276-4a70-ca6c-f9cadb1d1dbc"
      },
      "source": [
        "# Test the function\n",
        "string1 = \"Test 123\"\n",
        "string2 = \"\"\n",
        "string3 = \"Hallo Welt!\"\n",
        "\n",
        "print(first_digit(string1))\n",
        "print(first_digit(string2))\n",
        "print(first_digit(string3))"
      ],
      "execution_count": 37,
      "outputs": [
        {
          "output_type": "stream",
          "text": [
            "1\n",
            "Empty string!\n",
            "None\n"
          ],
          "name": "stdout"
        }
      ]
    },
    {
      "cell_type": "code",
      "metadata": {
        "id": "w3JOmUOJdaoV",
        "colab_type": "code",
        "colab": {}
      },
      "source": [
        ""
      ],
      "execution_count": null,
      "outputs": []
    }
  ]
}