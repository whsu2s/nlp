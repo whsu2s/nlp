{
  "nbformat": 4,
  "nbformat_minor": 0,
  "metadata": {
    "colab": {
      "name": "task_1.ipynb",
      "provenance": [],
      "collapsed_sections": [],
      "authorship_tag": "ABX9TyNwm0PCEjA+1sDw4zcoB4ea",
      "include_colab_link": true
    },
    "kernelspec": {
      "name": "python3",
      "display_name": "Python 3"
    }
  },
  "cells": [
    {
      "cell_type": "markdown",
      "metadata": {
        "id": "view-in-github",
        "colab_type": "text"
      },
      "source": [
        "<a href=\"https://colab.research.google.com/github/whsu2s/nlp/blob/master/task_1.ipynb\" target=\"_parent\"><img src=\"https://colab.research.google.com/assets/colab-badge.svg\" alt=\"Open In Colab\"/></a>"
      ]
    },
    {
      "cell_type": "markdown",
      "metadata": {
        "id": "z7quMiBZLADX",
        "colab_type": "text"
      },
      "source": [
        "## Please write a program or pseudocode which returns false if a string includes any number and/or any punctuations else returns true."
      ]
    },
    {
      "cell_type": "code",
      "metadata": {
        "id": "M2fiZhsBLaE_",
        "colab_type": "code",
        "colab": {}
      },
      "source": [
        "import string"
      ],
      "execution_count": 1,
      "outputs": []
    },
    {
      "cell_type": "code",
      "metadata": {
        "id": "2pes5V3QK9m2",
        "colab_type": "code",
        "colab": {}
      },
      "source": [
        "def check_num_or_punc(s):\n",
        "  \"\"\" Check if a string of length N (N >= 1) contains any number or punctuation.\n",
        "      The function returns True if there are no numbers or punctuations.\n",
        "  \"\"\"\n",
        "  puncs = list(string.punctuation)  # !\"#$%&'()*+,-./:;<=>?@[\\]^_`{|}~\n",
        "  if len(s) < 1:\n",
        "    return \"Empty string!\"\n",
        "  else:\n",
        "    return not(any(map(str.isdigit, s)) or any(p in s for p in puncs))"
      ],
      "execution_count": 2,
      "outputs": []
    },
    {
      "cell_type": "code",
      "metadata": {
        "id": "0LMklhEPLXl7",
        "colab_type": "code",
        "colab": {
          "base_uri": "https://localhost:8080/",
          "height": 87
        },
        "outputId": "1fe3145d-2048-434f-d49f-a3f7c2b7916c"
      },
      "source": [
        "# Test the function \n",
        "string1 = \"7-b\"\n",
        "string2 = \" \\t\"\n",
        "string3 = \"This is a sentence.\"\n",
        "string4 = \"Hello DFKI\"\n",
        "print(check_num_or_punc(string1))\n",
        "print(check_num_or_punc(string2))\n",
        "print(check_num_or_punc(string3))\n",
        "print(check_num_or_punc(string4))"
      ],
      "execution_count": 4,
      "outputs": [
        {
          "output_type": "stream",
          "text": [
            "False\n",
            "True\n",
            "False\n",
            "True\n"
          ],
          "name": "stdout"
        }
      ]
    },
    {
      "cell_type": "code",
      "metadata": {
        "id": "BymTOK36J0lz",
        "colab_type": "code",
        "colab": {}
      },
      "source": [
        ""
      ],
      "execution_count": null,
      "outputs": []
    }
  ]
}